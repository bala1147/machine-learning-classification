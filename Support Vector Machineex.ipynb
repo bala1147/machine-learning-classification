{
 "cells": [
  {
   "cell_type": "code",
   "execution_count": null,
   "metadata": {},
   "outputs": [],
   "source": [
    "SVM Implementation for Research"
   ]
  },
  {
   "cell_type": "code",
   "execution_count": null,
   "metadata": {},
   "outputs": [],
   "source": [
    "# -*- coding: utf-8 -*-\n",
    "\"\"\"\n",
    "SVM\n",
    "\n",
    "\"\"\"\n",
    "\n",
    "import pandas as pd\n",
    "from sklearn import model_selection\n",
    "from sklearn import svm\n",
    "import matplotlib.pyplot as plt\n",
    "import numpy as np\n",
    "\n",
    "class Decision_Tree():\n",
    "    def __init__(self):\n",
    "        self.split = [2,3,4,5,6,7,8,9,10]\n",
    "    \n",
    "    def dataset_split(self):\n",
    "        df = pd.read_csv(\"cardio_preprocessed.csv\")  \n",
    "        X = df.drop('cardio',axis=1)\n",
    "        y = df.cardio\n",
    "        return X,y\n",
    "\n",
    "    def model_creation(self):\n",
    "        acc_score = []\n",
    "        for i in self.split:\n",
    "            kfold = model_selection.KFold(n_splits=i)\n",
    "            model = svm.SVC(gamma='scale')\n",
    "            results = model_selection.cross_val_score(model, X, y, cv=kfold)\n",
    "            accuracy_score = results.mean()\n",
    "            acc_score.append(accuracy_score)\n",
    "        return acc_score\n",
    "    \n",
    "    def graph(self, acc_score):\n",
    "        plt.plot(self.split, acc_score)\n",
    "        plt.title(\"Decision Tree Classifier \\n Variations in Accuracy \\n with K-Fold Splits\", pad=20)\n",
    "        plt.ylabel(\"Accuracy\", fontsize = \"large\")\n",
    "        plt.xlabel('K-Fold Splits', fontsize = \"large\")\n",
    "        plt.legend([\"K-Fold\"], loc='lower right')\n",
    "        plt.show()\n",
    "        \n",
    "        print(\"\\n\",acc_score)\n",
    "        print(\"\\nOverall Accuracy Score for Decision Tree = \",np.mean(acc_score))\n",
    "\n",
    "\n",
    "d_tree = Decision_Tree()\n",
    "X,y = d_tree.dataset_split()\n",
    "acc_score = d_tree.model_creation()\n",
    "d_tree.graph(acc_score)"
   ]
  }
 ],
 "metadata": {
  "kernelspec": {
   "display_name": "Python 3",
   "language": "python",
   "name": "python3"
  },
  "language_info": {
   "codemirror_mode": {
    "name": "ipython",
    "version": 3
   },
   "file_extension": ".py",
   "mimetype": "text/x-python",
   "name": "python",
   "nbconvert_exporter": "python",
   "pygments_lexer": "ipython3",
   "version": "3.7.6"
  }
 },
 "nbformat": 4,
 "nbformat_minor": 4
}
